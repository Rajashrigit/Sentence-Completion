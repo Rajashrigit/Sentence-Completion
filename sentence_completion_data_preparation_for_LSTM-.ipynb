{
 "cells": [
  {
   "cell_type": "code",
   "execution_count": 1,
   "id": "8e2c2927",
   "metadata": {},
   "outputs": [],
   "source": [
    "A = open(\"/users/sai/Desktop/dataset/sherlock.txt\",encoding=\"UTF-8\")\n",
    "\n",
    "data = A.read()"
   ]
  },
  {
   "cell_type": "code",
   "execution_count": 2,
   "id": "598672f8",
   "metadata": {},
   "outputs": [],
   "source": [
    "#data\n"
   ]
  },
  {
   "cell_type": "code",
   "execution_count": 3,
   "id": "73feb164",
   "metadata": {},
   "outputs": [],
   "source": [
    "#data.readlines()\n"
   ]
  },
  {
   "cell_type": "markdown",
   "id": "7c146fb4",
   "metadata": {},
   "source": [
    "# Tokenize data and then preprocess\n"
   ]
  },
  {
   "cell_type": "code",
   "execution_count": 4,
   "id": "9dc0bcd3",
   "metadata": {},
   "outputs": [],
   "source": [
    "Q = []\n",
    "import re\n",
    "for i in data.split(\" \"):\n",
    "    w = re.sub(\"[^a-zA-Z]\",\"\",i)\n",
    "    w = w.upper()\n",
    "    if(w!=\"\"):\n",
    "        Q.append(w)\n"
   ]
  },
  {
   "cell_type": "code",
   "execution_count": 5,
   "id": "567f4d87",
   "metadata": {},
   "outputs": [],
   "source": [
    "Q = Q[0:1000]\n"
   ]
  },
  {
   "cell_type": "markdown",
   "id": "d290a94d",
   "metadata": {},
   "source": [
    "# Find Unique words\n"
   ]
  },
  {
   "cell_type": "code",
   "execution_count": 6,
   "id": "ca1a2dd7",
   "metadata": {},
   "outputs": [],
   "source": [
    "from numpy import unique\n",
    "unique_words = unique(Q)"
   ]
  },
  {
   "cell_type": "markdown",
   "id": "99863be4",
   "metadata": {},
   "source": [
    "# Create X and Y in string format\n"
   ]
  },
  {
   "cell_type": "code",
   "execution_count": 7,
   "id": "daccc70a",
   "metadata": {},
   "outputs": [
    {
     "data": {
      "text/plain": [
       "1000"
      ]
     },
     "execution_count": 7,
     "metadata": {},
     "output_type": "execute_result"
    }
   ],
   "source": [
    "len(Q)\n"
   ]
  },
  {
   "cell_type": "code",
   "execution_count": 8,
   "id": "117bf42e",
   "metadata": {},
   "outputs": [],
   "source": [
    "Xstr = []\n",
    "Ystr = []\n",
    "for i in range(4,len(Q),1):\n",
    "    w1 = Q[i-4]\n",
    "    w2 = Q[i-3]\n",
    "    w3 = Q[i-2]\n",
    "    w4 = Q[i-1]\n",
    "    wy = Q[i]\n",
    "    line = w1 + \" \" + w2 + \" \" + w3 + \" \" + w4\n",
    "    Xstr.append(line)\n",
    "    Ystr.append(wy)"
   ]
  },
  {
   "cell_type": "code",
   "execution_count": 9,
   "id": "96d5d14b",
   "metadata": {},
   "outputs": [
    {
     "data": {
      "text/plain": [
       "['PROJECT',\n",
       " 'GUTENBERGS',\n",
       " 'THE',\n",
       " 'ADVENTURES',\n",
       " 'OF',\n",
       " 'SHERLOCK',\n",
       " 'HOLMES',\n",
       " 'BY',\n",
       " 'ARTHUR',\n",
       " 'CONAN',\n",
       " 'DOYLETHIS',\n",
       " 'EBOOK',\n",
       " 'IS',\n",
       " 'FOR',\n",
       " 'THE',\n",
       " 'USE',\n",
       " 'OF',\n",
       " 'ANYONE',\n",
       " 'ANYWHERE',\n",
       " 'AT']"
      ]
     },
     "execution_count": 9,
     "metadata": {},
     "output_type": "execute_result"
    }
   ],
   "source": [
    "Q[0:20]\n"
   ]
  },
  {
   "cell_type": "code",
   "execution_count": 10,
   "id": "2cf022e2",
   "metadata": {},
   "outputs": [],
   "source": [
    "from pandas import DataFrame\n",
    "#DataFrame([Xstr,Ystr]).T\n"
   ]
  },
  {
   "cell_type": "markdown",
   "id": "7ed51b61",
   "metadata": {},
   "source": [
    "# Declare Arrays for X and Y\n"
   ]
  },
  {
   "cell_type": "code",
   "execution_count": 11,
   "id": "6b94d377",
   "metadata": {},
   "outputs": [],
   "source": [
    "lines = len(Xstr)\n",
    "n_uniques = len(unique_words)\n",
    "seq = 4"
   ]
  },
  {
   "cell_type": "code",
   "execution_count": 12,
   "id": "2ed95435",
   "metadata": {},
   "outputs": [
    {
     "data": {
      "text/plain": [
       "996"
      ]
     },
     "execution_count": 12,
     "metadata": {},
     "output_type": "execute_result"
    }
   ],
   "source": [
    "lines\n"
   ]
  },
  {
   "cell_type": "code",
   "execution_count": 13,
   "id": "452da650",
   "metadata": {},
   "outputs": [
    {
     "data": {
      "text/plain": [
       "515"
      ]
     },
     "execution_count": 13,
     "metadata": {},
     "output_type": "execute_result"
    }
   ],
   "source": [
    "n_uniques\n"
   ]
  },
  {
   "cell_type": "code",
   "execution_count": 14,
   "id": "5c0f10e4",
   "metadata": {},
   "outputs": [
    {
     "data": {
      "text/plain": [
       "4"
      ]
     },
     "execution_count": 14,
     "metadata": {},
     "output_type": "execute_result"
    }
   ],
   "source": [
    "seq"
   ]
  },
  {
   "cell_type": "code",
   "execution_count": 15,
   "id": "196ff383",
   "metadata": {},
   "outputs": [],
   "source": [
    "from numpy import zeros\n",
    "X_arr = zeros((lines,n_uniques,seq),dtype=\"bool\") \n",
    "Y_arr = zeros((lines,n_uniques))"
   ]
  },
  {
   "cell_type": "markdown",
   "id": "5c994ea1",
   "metadata": {},
   "source": [
    "# Data Preparation for X_arr and Y_arr\n"
   ]
  },
  {
   "cell_type": "code",
   "execution_count": 16,
   "id": "9bf67c4f",
   "metadata": {},
   "outputs": [],
   "source": [
    "line_enum = list(enumerate(Xstr))\n"
   ]
  },
  {
   "cell_type": "code",
   "execution_count": 17,
   "id": "fb437a94",
   "metadata": {},
   "outputs": [],
   "source": [
    "pos_finder = {}\n",
    "for i,j in list(enumerate(unique_words)):\n",
    "    pos_finder[j] = i"
   ]
  },
  {
   "cell_type": "code",
   "execution_count": 18,
   "id": "c71f8930",
   "metadata": {},
   "outputs": [
    {
     "data": {
      "text/plain": [
       "395"
      ]
     },
     "execution_count": 18,
     "metadata": {},
     "output_type": "execute_result"
    }
   ],
   "source": [
    "pos_finder[\"SHERLOCK\"]\n"
   ]
  },
  {
   "cell_type": "code",
   "execution_count": 19,
   "id": "16d92de8",
   "metadata": {},
   "outputs": [],
   "source": [
    "for line_no,line in line_enum:\n",
    "    for seq,word in enumerate(line.split(\" \")):\n",
    "        X_arr[line_no,pos_finder[word],seq] = 1"
   ]
  },
  {
   "cell_type": "code",
   "execution_count": 20,
   "id": "b4ec311a",
   "metadata": {},
   "outputs": [
    {
     "data": {
      "text/plain": [
       "False"
      ]
     },
     "execution_count": 20,
     "metadata": {},
     "output_type": "execute_result"
    }
   ],
   "source": [
    "X_arr[3,510,2]\n"
   ]
  },
  {
   "cell_type": "code",
   "execution_count": 21,
   "id": "3321ce23",
   "metadata": {},
   "outputs": [
    {
     "data": {
      "text/plain": [
       "array([[0., 0., 0., ..., 0., 0., 0.],\n",
       "       [0., 0., 0., ..., 0., 0., 0.],\n",
       "       [0., 0., 0., ..., 0., 0., 0.],\n",
       "       ...,\n",
       "       [0., 0., 0., ..., 0., 0., 0.],\n",
       "       [0., 0., 0., ..., 0., 0., 0.],\n",
       "       [0., 0., 0., ..., 0., 0., 0.]])"
      ]
     },
     "execution_count": 21,
     "metadata": {},
     "output_type": "execute_result"
    }
   ],
   "source": [
    "Y_arr\n"
   ]
  },
  {
   "cell_type": "code",
   "execution_count": 22,
   "id": "89e39ca1",
   "metadata": {},
   "outputs": [],
   "source": [
    "for i,j in enumerate(Ystr):\n",
    "    pos = pos_finder[j]\n",
    "    Y_arr[i,pos]=1"
   ]
  },
  {
   "cell_type": "code",
   "execution_count": 23,
   "id": "06669dc7",
   "metadata": {},
   "outputs": [
    {
     "data": {
      "text/plain": [
       "array([[0., 0., 0., ..., 0., 0., 0.],\n",
       "       [0., 0., 0., ..., 0., 0., 0.],\n",
       "       [0., 0., 0., ..., 0., 0., 0.],\n",
       "       ...,\n",
       "       [0., 0., 0., ..., 0., 0., 0.],\n",
       "       [0., 0., 0., ..., 0., 0., 0.],\n",
       "       [0., 0., 0., ..., 0., 0., 0.]])"
      ]
     },
     "execution_count": 23,
     "metadata": {},
     "output_type": "execute_result"
    }
   ],
   "source": [
    "Y_arr"
   ]
  },
  {
   "cell_type": "code",
   "execution_count": 24,
   "id": "7cb4cd58",
   "metadata": {},
   "outputs": [],
   "source": [
    "#pos_finder[\"SHERLOCK\"]\n"
   ]
  },
  {
   "cell_type": "code",
   "execution_count": 25,
   "id": "15b5319b",
   "metadata": {},
   "outputs": [],
   "source": [
    "#Y_arr[1,11361]\n"
   ]
  },
  {
   "cell_type": "code",
   "execution_count": 26,
   "id": "1cdf5513",
   "metadata": {},
   "outputs": [
    {
     "data": {
      "text/plain": [
       "(996, 515, 4)"
      ]
     },
     "execution_count": 26,
     "metadata": {},
     "output_type": "execute_result"
    }
   ],
   "source": [
    "X_arr.shape\n"
   ]
  },
  {
   "cell_type": "markdown",
   "id": "793edd82",
   "metadata": {},
   "source": [
    "# Create a NN\n"
   ]
  },
  {
   "cell_type": "code",
   "execution_count": 27,
   "id": "6fa3bb58",
   "metadata": {},
   "outputs": [],
   "source": [
    "from keras.models import Sequential\n",
    "from keras.layers import Dense,LSTM\n",
    "from keras.activations import softmax\n",
    "from keras.layers.core import Activation"
   ]
  },
  {
   "cell_type": "code",
   "execution_count": 28,
   "id": "b7e1c00c",
   "metadata": {},
   "outputs": [],
   "source": [
    "nn = Sequential()\n",
    "nn.add(LSTM(200,input_shape=(515,4)))\n",
    "nn.add(Dense(515))\n",
    "nn.add(Activation(\"softmax\"))"
   ]
  },
  {
   "cell_type": "code",
   "execution_count": 29,
   "id": "3e41bb6d",
   "metadata": {},
   "outputs": [
    {
     "name": "stdout",
     "output_type": "stream",
     "text": [
      "Epoch 1/2\n",
      "31/31 [==============================] - 59s 2s/step - loss: 6.0902 - accuracy: 0.0477 - val_loss: 6.9258 - val_accuracy: 0.0000e+00\n",
      "Epoch 2/2\n",
      "31/31 [==============================] - 54s 2s/step - loss: 5.7317 - accuracy: 0.0548 - val_loss: 7.3178 - val_accuracy: 0.0000e+00\n"
     ]
    }
   ],
   "source": [
    "nn.compile(loss=\"categorical_crossentropy\",metrics=[\"accuracy\"],optimizer=\"adam\")\n",
    "model = nn.fit(X_arr,Y_arr,epochs=2,validation_split=0.01)"
   ]
  },
  {
   "cell_type": "code",
   "execution_count": 38,
   "id": "f85d6e92",
   "metadata": {},
   "outputs": [
    {
     "name": "stdout",
     "output_type": "stream",
     "text": [
      "Enter sentence:(4 words)adventures of sherlock holmes\n"
     ]
    }
   ],
   "source": [
    "q = input(\"Enter sentence:(4 words)\")\n",
    "q = q.upper()"
   ]
  },
  {
   "cell_type": "code",
   "execution_count": 39,
   "id": "ba667121",
   "metadata": {},
   "outputs": [
    {
     "data": {
      "text/plain": [
       "'ADVENTURES OF SHERLOCK HOLMES'"
      ]
     },
     "execution_count": 39,
     "metadata": {},
     "output_type": "execute_result"
    }
   ],
   "source": [
    "q"
   ]
  },
  {
   "cell_type": "code",
   "execution_count": 40,
   "id": "2428af2f",
   "metadata": {},
   "outputs": [],
   "source": [
    "inp = zeros((1,515,4),dtype=\"bool\")\n",
    "\n",
    "for word_no,word in enumerate(q.split(\" \")):\n",
    "    inp[0,pos_finder[word],word_no]=1"
   ]
  },
  {
   "cell_type": "code",
   "execution_count": 41,
   "id": "892ef67e",
   "metadata": {},
   "outputs": [],
   "source": [
    "import pandas as pd\n",
    "B = pd.DataFrame(zip(unique_words,list(nn.predict(inp)[0])),columns=[\"Word\",\"Prob\"])\n",
    "x = B.Prob.max()\n"
   ]
  },
  {
   "cell_type": "code",
   "execution_count": 42,
   "id": "4fc13e41",
   "metadata": {},
   "outputs": [
    {
     "data": {
      "text/plain": [
       "'THE'"
      ]
     },
     "execution_count": 42,
     "metadata": {},
     "output_type": "execute_result"
    }
   ],
   "source": [
    "B[B.Prob == x].Word.values[0]\n"
   ]
  },
  {
   "cell_type": "code",
   "execution_count": null,
   "id": "3441136d",
   "metadata": {},
   "outputs": [],
   "source": []
  },
  {
   "cell_type": "code",
   "execution_count": null,
   "id": "2e0fc5c3",
   "metadata": {},
   "outputs": [],
   "source": []
  }
 ],
 "metadata": {
  "kernelspec": {
   "display_name": "Python 3 (ipykernel)",
   "language": "python",
   "name": "python3"
  },
  "language_info": {
   "codemirror_mode": {
    "name": "ipython",
    "version": 3
   },
   "file_extension": ".py",
   "mimetype": "text/x-python",
   "name": "python",
   "nbconvert_exporter": "python",
   "pygments_lexer": "ipython3",
   "version": "3.9.7"
  }
 },
 "nbformat": 4,
 "nbformat_minor": 5
}
